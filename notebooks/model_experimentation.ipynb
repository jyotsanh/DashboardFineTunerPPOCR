{
 "cells": [
  {
   "cell_type": "markdown",
   "id": "5ca92059",
   "metadata": {},
   "source": [
    "## Document Image Orientation Classification Module Usage"
   ]
  },
  {
   "cell_type": "markdown",
   "id": "4f762e96",
   "metadata": {},
   "source": [
    "The document image orientation classification module mainly distinguishes the orientation of the document image and corrects it through post-processing. In processes such as document scanning and ID card photography, sometimes the camera is rotated to make the image clearer, resulting in images with different orientations. At this time, the standard OCR process cannot handle this data well. Using image classification technology, the orientation of documents or ID cards containing text areas can be pre-determined and adjusted, thereby improving the accuracy of OCR processing.\n"
   ]
  },
  {
   "cell_type": "markdown",
   "id": "e2b794ec",
   "metadata": {},
   "source": [
    "### supported models\n",
    "- PP-LCNet_x1_0_doc_ori"
   ]
  },
  {
   "cell_type": "code",
   "execution_count": 1,
   "id": "8dae61a8",
   "metadata": {},
   "outputs": [
    {
     "name": "stderr",
     "output_type": "stream",
     "text": [
      "WARNING:root:failed to import ujson, using json instead\n",
      "\u001b[32mUsing official model (PP-LCNet_x1_0_doc_ori), the model files will be automatically downloaded and saved in /home/b0g0/.paddlex/official_models.\u001b[0m\n"
     ]
    },
    {
     "ename": "ModuleNotFoundError",
     "evalue": "No module named 'paddle'",
     "output_type": "error",
     "traceback": [
      "\u001b[31m---------------------------------------------------------------------------\u001b[39m",
      "\u001b[31mModuleNotFoundError\u001b[39m                       Traceback (most recent call last)",
      "\u001b[36mCell\u001b[39m\u001b[36m \u001b[39m\u001b[32mIn[1]\u001b[39m\u001b[32m, line 2\u001b[39m\n\u001b[32m      1\u001b[39m \u001b[38;5;28;01mfrom\u001b[39;00m\u001b[38;5;250m \u001b[39m\u001b[34;01mpaddleocr\u001b[39;00m\u001b[38;5;250m \u001b[39m\u001b[38;5;28;01mimport\u001b[39;00m DocImgOrientationClassification\n\u001b[32m----> \u001b[39m\u001b[32m2\u001b[39m model = \u001b[43mDocImgOrientationClassification\u001b[49m\u001b[43m(\u001b[49m\u001b[43mmodel_name\u001b[49m\u001b[43m=\u001b[49m\u001b[33;43m\"\u001b[39;49m\u001b[33;43mPP-LCNet_x1_0_doc_ori\u001b[39;49m\u001b[33;43m\"\u001b[39;49m\u001b[43m)\u001b[49m\n\u001b[32m      3\u001b[39m \u001b[38;5;66;03m# output = model.predict(\"img_rot180_demo.jpg\",  batch_size=1)\u001b[39;00m\n\u001b[32m      4\u001b[39m \u001b[38;5;66;03m# for res in output:\u001b[39;00m\n\u001b[32m      5\u001b[39m \u001b[38;5;66;03m#     res.print(json_format=False)\u001b[39;00m\n\u001b[32m      6\u001b[39m \u001b[38;5;66;03m#     res.save_to_img(\"./output/demo.png\")\u001b[39;00m\n\u001b[32m      7\u001b[39m \u001b[38;5;66;03m#     res.save_to_json(\"./output/res.json\")\u001b[39;00m\n",
      "\u001b[36mFile \u001b[39m\u001b[32m~/product/DashboardFineTunerPPOCR/venv/lib/python3.12/site-packages/paddleocr/_models/_image_classification.py:35\u001b[39m, in \u001b[36mImageClassification.__init__\u001b[39m\u001b[34m(self, topk, **kwargs)\u001b[39m\n\u001b[32m     26\u001b[39m \u001b[38;5;28;01mdef\u001b[39;00m\u001b[38;5;250m \u001b[39m\u001b[34m__init__\u001b[39m(\n\u001b[32m     27\u001b[39m     \u001b[38;5;28mself\u001b[39m,\n\u001b[32m     28\u001b[39m     *,\n\u001b[32m     29\u001b[39m     topk=\u001b[38;5;28;01mNone\u001b[39;00m,\n\u001b[32m     30\u001b[39m     **kwargs,\n\u001b[32m     31\u001b[39m ):\n\u001b[32m     32\u001b[39m     \u001b[38;5;28mself\u001b[39m._extra_init_args = {\n\u001b[32m     33\u001b[39m         \u001b[33m\"\u001b[39m\u001b[33mtopk\u001b[39m\u001b[33m\"\u001b[39m: topk,\n\u001b[32m     34\u001b[39m     }\n\u001b[32m---> \u001b[39m\u001b[32m35\u001b[39m     \u001b[38;5;28;43msuper\u001b[39;49m\u001b[43m(\u001b[49m\u001b[43m)\u001b[49m\u001b[43m.\u001b[49m\u001b[34;43m__init__\u001b[39;49m\u001b[43m(\u001b[49m\u001b[43m*\u001b[49m\u001b[43m*\u001b[49m\u001b[43mkwargs\u001b[49m\u001b[43m)\u001b[49m\n",
      "\u001b[36mFile \u001b[39m\u001b[32m~/product/DashboardFineTunerPPOCR/venv/lib/python3.12/site-packages/paddleocr/_models/base.py:55\u001b[39m, in \u001b[36mPaddleXPredictorWrapper.__init__\u001b[39m\u001b[34m(self, model_name, model_dir, **common_args)\u001b[39m\n\u001b[32m     51\u001b[39m     common_args[\u001b[33m\"\u001b[39m\u001b[33menable_mkldnn\u001b[39m\u001b[33m\"\u001b[39m] = \u001b[38;5;28;01mFalse\u001b[39;00m\n\u001b[32m     52\u001b[39m \u001b[38;5;28mself\u001b[39m._common_args = parse_common_args(\n\u001b[32m     53\u001b[39m     common_args, default_enable_hpi=_DEFAULT_ENABLE_HPI\n\u001b[32m     54\u001b[39m )\n\u001b[32m---> \u001b[39m\u001b[32m55\u001b[39m \u001b[38;5;28mself\u001b[39m.paddlex_predictor = \u001b[38;5;28;43mself\u001b[39;49m\u001b[43m.\u001b[49m\u001b[43m_create_paddlex_predictor\u001b[49m\u001b[43m(\u001b[49m\u001b[43m)\u001b[49m\n",
      "\u001b[36mFile \u001b[39m\u001b[32m~/product/DashboardFineTunerPPOCR/venv/lib/python3.12/site-packages/paddleocr/_models/base.py:81\u001b[39m, in \u001b[36mPaddleXPredictorWrapper._create_paddlex_predictor\u001b[39m\u001b[34m(self)\u001b[39m\n\u001b[32m     79\u001b[39m kwargs = {**\u001b[38;5;28mself\u001b[39m._get_extra_paddlex_predictor_init_args(), **kwargs}\n\u001b[32m     80\u001b[39m \u001b[38;5;66;03m# Should we check model names?\u001b[39;00m\n\u001b[32m---> \u001b[39m\u001b[32m81\u001b[39m \u001b[38;5;28;01mreturn\u001b[39;00m \u001b[43mcreate_predictor\u001b[49m\u001b[43m(\u001b[49m\n\u001b[32m     82\u001b[39m \u001b[43m    \u001b[49m\u001b[43mmodel_name\u001b[49m\u001b[43m=\u001b[49m\u001b[38;5;28;43mself\u001b[39;49m\u001b[43m.\u001b[49m\u001b[43m_model_name\u001b[49m\u001b[43m,\u001b[49m\u001b[43m \u001b[49m\u001b[43mmodel_dir\u001b[49m\u001b[43m=\u001b[49m\u001b[38;5;28;43mself\u001b[39;49m\u001b[43m.\u001b[49m\u001b[43m_model_dir\u001b[49m\u001b[43m,\u001b[49m\u001b[43m \u001b[49m\u001b[43m*\u001b[49m\u001b[43m*\u001b[49m\u001b[43mkwargs\u001b[49m\n\u001b[32m     83\u001b[39m \u001b[43m\u001b[49m\u001b[43m)\u001b[49m\n",
      "\u001b[36mFile \u001b[39m\u001b[32m~/product/DashboardFineTunerPPOCR/venv/lib/python3.12/site-packages/paddlex/inference/models/__init__.py:77\u001b[39m, in \u001b[36mcreate_predictor\u001b[39m\u001b[34m(model_name, model_dir, device, pp_option, use_hpip, hpi_config, *args, **kwargs)\u001b[39m\n\u001b[32m     73\u001b[39m config = BasePredictor.load_config(model_dir)\n\u001b[32m     74\u001b[39m \u001b[38;5;28;01massert\u001b[39;00m (\n\u001b[32m     75\u001b[39m     model_name == config[\u001b[33m\"\u001b[39m\u001b[33mGlobal\u001b[39m\u001b[33m\"\u001b[39m][\u001b[33m\"\u001b[39m\u001b[33mmodel_name\u001b[39m\u001b[33m\"\u001b[39m]\n\u001b[32m     76\u001b[39m ), \u001b[33mf\u001b[39m\u001b[33m\"\u001b[39m\u001b[33mModel name mismatch，please input the correct model dir.\u001b[39m\u001b[33m\"\u001b[39m\n\u001b[32m---> \u001b[39m\u001b[32m77\u001b[39m \u001b[38;5;28;01mreturn\u001b[39;00m \u001b[43mBasePredictor\u001b[49m\u001b[43m.\u001b[49m\u001b[43mget\u001b[49m\u001b[43m(\u001b[49m\u001b[43mmodel_name\u001b[49m\u001b[43m)\u001b[49m\u001b[43m(\u001b[49m\n\u001b[32m     78\u001b[39m \u001b[43m    \u001b[49m\u001b[43mmodel_dir\u001b[49m\u001b[43m=\u001b[49m\u001b[43mmodel_dir\u001b[49m\u001b[43m,\u001b[49m\n\u001b[32m     79\u001b[39m \u001b[43m    \u001b[49m\u001b[43mconfig\u001b[49m\u001b[43m=\u001b[49m\u001b[43mconfig\u001b[49m\u001b[43m,\u001b[49m\n\u001b[32m     80\u001b[39m \u001b[43m    \u001b[49m\u001b[43mdevice\u001b[49m\u001b[43m=\u001b[49m\u001b[43mdevice\u001b[49m\u001b[43m,\u001b[49m\n\u001b[32m     81\u001b[39m \u001b[43m    \u001b[49m\u001b[43mpp_option\u001b[49m\u001b[43m=\u001b[49m\u001b[43mpp_option\u001b[49m\u001b[43m,\u001b[49m\n\u001b[32m     82\u001b[39m \u001b[43m    \u001b[49m\u001b[43muse_hpip\u001b[49m\u001b[43m=\u001b[49m\u001b[43muse_hpip\u001b[49m\u001b[43m,\u001b[49m\n\u001b[32m     83\u001b[39m \u001b[43m    \u001b[49m\u001b[43mhpi_config\u001b[49m\u001b[43m=\u001b[49m\u001b[43mhpi_config\u001b[49m\u001b[43m,\u001b[49m\n\u001b[32m     84\u001b[39m \u001b[43m    \u001b[49m\u001b[43m*\u001b[49m\u001b[43margs\u001b[49m\u001b[43m,\u001b[49m\n\u001b[32m     85\u001b[39m \u001b[43m    \u001b[49m\u001b[43m*\u001b[49m\u001b[43m*\u001b[49m\u001b[43mkwargs\u001b[49m\u001b[43m,\u001b[49m\n\u001b[32m     86\u001b[39m \u001b[43m\u001b[49m\u001b[43m)\u001b[49m\n",
      "\u001b[36mFile \u001b[39m\u001b[32m~/product/DashboardFineTunerPPOCR/venv/lib/python3.12/site-packages/paddlex/inference/models/image_classification/predictor.py:47\u001b[39m, in \u001b[36mClasPredictor.__init__\u001b[39m\u001b[34m(self, topk, *args, **kwargs)\u001b[39m\n\u001b[32m     37\u001b[39m \u001b[38;5;28;01mdef\u001b[39;00m\u001b[38;5;250m \u001b[39m\u001b[34m__init__\u001b[39m(\n\u001b[32m     38\u001b[39m     \u001b[38;5;28mself\u001b[39m, topk: Union[\u001b[38;5;28mint\u001b[39m, \u001b[38;5;28;01mNone\u001b[39;00m] = \u001b[38;5;28;01mNone\u001b[39;00m, *args: List, **kwargs: Dict\n\u001b[32m     39\u001b[39m ) -> \u001b[38;5;28;01mNone\u001b[39;00m:\n\u001b[32m     40\u001b[39m \u001b[38;5;250m    \u001b[39m\u001b[33;03m\"\"\"Initializes ClasPredictor.\u001b[39;00m\n\u001b[32m     41\u001b[39m \n\u001b[32m     42\u001b[39m \u001b[33;03m    Args:\u001b[39;00m\n\u001b[32m   (...)\u001b[39m\u001b[32m     45\u001b[39m \u001b[33;03m        **kwargs: Arbitrary keyword arguments passed to the superclass.\u001b[39;00m\n\u001b[32m     46\u001b[39m \u001b[33;03m    \"\"\"\u001b[39;00m\n\u001b[32m---> \u001b[39m\u001b[32m47\u001b[39m     \u001b[38;5;28;43msuper\u001b[39;49m\u001b[43m(\u001b[49m\u001b[43m)\u001b[49m\u001b[43m.\u001b[49m\u001b[34;43m__init__\u001b[39;49m\u001b[43m(\u001b[49m\u001b[43m*\u001b[49m\u001b[43margs\u001b[49m\u001b[43m,\u001b[49m\u001b[43m \u001b[49m\u001b[43m*\u001b[49m\u001b[43m*\u001b[49m\u001b[43mkwargs\u001b[49m\u001b[43m)\u001b[49m\n\u001b[32m     48\u001b[39m     \u001b[38;5;28mself\u001b[39m.topk = topk\n\u001b[32m     49\u001b[39m     \u001b[38;5;28mself\u001b[39m.preprocessors, \u001b[38;5;28mself\u001b[39m.infer, \u001b[38;5;28mself\u001b[39m.postprocessors = \u001b[38;5;28mself\u001b[39m._build()\n",
      "\u001b[36mFile \u001b[39m\u001b[32m~/product/DashboardFineTunerPPOCR/venv/lib/python3.12/site-packages/paddlex/inference/models/base/predictor/base_predictor.py:121\u001b[39m, in \u001b[36mBasePredictor.__init__\u001b[39m\u001b[34m(self, model_dir, config, device, batch_size, pp_option, use_hpip, hpi_config)\u001b[39m\n\u001b[32m    119\u001b[39m \u001b[38;5;28mself\u001b[39m._use_hpip = use_hpip\n\u001b[32m    120\u001b[39m \u001b[38;5;28;01mif\u001b[39;00m \u001b[38;5;129;01mnot\u001b[39;00m use_hpip:\n\u001b[32m--> \u001b[39m\u001b[32m121\u001b[39m     \u001b[38;5;28mself\u001b[39m._pp_option = \u001b[38;5;28;43mself\u001b[39;49m\u001b[43m.\u001b[49m\u001b[43m_prepare_pp_option\u001b[49m\u001b[43m(\u001b[49m\u001b[43mpp_option\u001b[49m\u001b[43m,\u001b[49m\u001b[43m \u001b[49m\u001b[43mdevice\u001b[49m\u001b[43m)\u001b[49m\n\u001b[32m    122\u001b[39m \u001b[38;5;28;01melse\u001b[39;00m:\n\u001b[32m    123\u001b[39m     require_hpip()\n",
      "\u001b[36mFile \u001b[39m\u001b[32m~/product/DashboardFineTunerPPOCR/venv/lib/python3.12/site-packages/paddlex/inference/models/base/predictor/base_predictor.py:341\u001b[39m, in \u001b[36mBasePredictor._prepare_pp_option\u001b[39m\u001b[34m(self, pp_option, device)\u001b[39m\n\u001b[32m    339\u001b[39m     pp_option.model_name = \u001b[38;5;28mself\u001b[39m.model_name\n\u001b[32m    340\u001b[39m \u001b[38;5;28;01mif\u001b[39;00m device_info:\n\u001b[32m--> \u001b[39m\u001b[32m341\u001b[39m     \u001b[43mpp_option\u001b[49m\u001b[43m.\u001b[49m\u001b[43mdevice_type\u001b[49m = device_info[\u001b[32m0\u001b[39m]\n\u001b[32m    342\u001b[39m     pp_option.device_id = device_info[\u001b[32m1\u001b[39m]\n\u001b[32m    343\u001b[39m hpi_info = \u001b[38;5;28mself\u001b[39m.get_hpi_info()\n",
      "\u001b[36mFile \u001b[39m\u001b[32m~/product/DashboardFineTunerPPOCR/venv/lib/python3.12/site-packages/paddlex/inference/utils/pp_option.py:162\u001b[39m, in \u001b[36mPaddlePredictorOption.device_type\u001b[39m\u001b[34m(self, device_type)\u001b[39m\n\u001b[32m    160\u001b[39m check_supported_device_type(device_type, \u001b[38;5;28mself\u001b[39m.model_name)\n\u001b[32m    161\u001b[39m \u001b[38;5;28mself\u001b[39m._update(\u001b[33m\"\u001b[39m\u001b[33mdevice_type\u001b[39m\u001b[33m\"\u001b[39m, device_type)\n\u001b[32m--> \u001b[39m\u001b[32m162\u001b[39m \u001b[43mset_env_for_device_type\u001b[49m\u001b[43m(\u001b[49m\u001b[43mdevice_type\u001b[49m\u001b[43m)\u001b[49m\n\u001b[32m    163\u001b[39m \u001b[38;5;66;03m# XXX(gaotingquan): set flag to accelerate inference in paddle 3.0b2\u001b[39;00m\n\u001b[32m    164\u001b[39m \u001b[38;5;28;01mif\u001b[39;00m device_type \u001b[38;5;129;01min\u001b[39;00m (\u001b[33m\"\u001b[39m\u001b[33mgpu\u001b[39m\u001b[33m\"\u001b[39m, \u001b[33m\"\u001b[39m\u001b[33mcpu\u001b[39m\u001b[33m\"\u001b[39m):\n",
      "\u001b[36mFile \u001b[39m\u001b[32m~/product/DashboardFineTunerPPOCR/venv/lib/python3.12/site-packages/paddlex/utils/device.py:98\u001b[39m, in \u001b[36mset_env_for_device_type\u001b[39m\u001b[34m(device_type)\u001b[39m\n\u001b[32m     97\u001b[39m \u001b[38;5;28;01mdef\u001b[39;00m\u001b[38;5;250m \u001b[39m\u001b[34mset_env_for_device_type\u001b[39m(device_type):\n\u001b[32m---> \u001b[39m\u001b[32m98\u001b[39m     \u001b[38;5;28;01mimport\u001b[39;00m\u001b[38;5;250m \u001b[39m\u001b[34;01mpaddle\u001b[39;00m\n\u001b[32m    100\u001b[39m     \u001b[38;5;28;01mdef\u001b[39;00m\u001b[38;5;250m \u001b[39m\u001b[34m_set\u001b[39m(envs):\n\u001b[32m    101\u001b[39m         \u001b[38;5;28;01mfor\u001b[39;00m key, val \u001b[38;5;129;01min\u001b[39;00m envs.items():\n",
      "\u001b[31mModuleNotFoundError\u001b[39m: No module named 'paddle'"
     ]
    }
   ],
   "source": [
    "from paddleocr import DocImgOrientationClassification\n",
    "model = DocImgOrientationClassification(model_name=\"PP-LCNet_x1_0_doc_ori\")\n",
    "# output = model.predict(\"img_rot180_demo.jpg\",  batch_size=1)\n",
    "# for res in output:\n",
    "#     res.print(json_format=False)\n",
    "#     res.save_to_img(\"./output/demo.png\")\n",
    "#     res.save_to_json(\"./output/res.json\")"
   ]
  },
  {
   "cell_type": "code",
   "execution_count": null,
   "id": "d277dece",
   "metadata": {},
   "outputs": [],
   "source": []
  },
  {
   "cell_type": "code",
   "execution_count": null,
   "id": "12d1136e",
   "metadata": {},
   "outputs": [
    {
     "name": "stdout",
     "output_type": "stream",
     "text": [
      "backdhoti\n"
     ]
    }
   ],
   "source": []
  }
 ],
 "metadata": {
  "kernelspec": {
   "display_name": "venv",
   "language": "python",
   "name": "python3"
  },
  "language_info": {
   "codemirror_mode": {
    "name": "ipython",
    "version": 3
   },
   "file_extension": ".py",
   "mimetype": "text/x-python",
   "name": "python",
   "nbconvert_exporter": "python",
   "pygments_lexer": "ipython3",
   "version": "3.12.3"
  }
 },
 "nbformat": 4,
 "nbformat_minor": 5
}
